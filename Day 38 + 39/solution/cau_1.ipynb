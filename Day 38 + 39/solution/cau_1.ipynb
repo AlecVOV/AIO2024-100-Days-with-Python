{
 "cells": [
  {
   "cell_type": "markdown",
   "id": "34c46fc1-f3d6-4bd9-94f5-a008b96346de",
   "metadata": {},
   "source": [
    "#### Câu 1: Numpy Array"
   ]
  },
  {
   "cell_type": "markdown",
   "id": "4e7ed9bf-c361-4f6f-b2fa-2df4213ad088",
   "metadata": {},
   "source": [
    "```\n",
    "Cho dữ liệu data với các giá trị như sau : \n",
    "\n",
    "data =[ 30, 22, 47, 20, 46, 47, 37, 24, 40, 12, 43, 45, 44, 48, 24, 30, 15, 28, 21, 29, 17, 24, 41, 33, 2]\n",
    "```\n"
   ]
  },
  {
   "cell_type": "code",
   "execution_count": 1,
   "id": "a1f36277-268f-4aa4-8290-ed86fb2a6984",
   "metadata": {},
   "outputs": [],
   "source": [
    "import numpy as np"
   ]
  },
  {
   "cell_type": "code",
   "execution_count": 2,
   "id": "64a7762a-3a03-4d15-adf5-bafe04b4de88",
   "metadata": {},
   "outputs": [
    {
     "data": {
      "text/plain": [
       "[30,\n",
       " 22,\n",
       " 47,\n",
       " 20,\n",
       " 46,\n",
       " 47,\n",
       " 37,\n",
       " 24,\n",
       " 40,\n",
       " 12,\n",
       " 43,\n",
       " 45,\n",
       " 44,\n",
       " 48,\n",
       " 24,\n",
       " 30,\n",
       " 15,\n",
       " 28,\n",
       " 21,\n",
       " 29,\n",
       " 17,\n",
       " 24,\n",
       " 41,\n",
       " 33,\n",
       " 23]"
      ]
     },
     "execution_count": 2,
     "metadata": {},
     "output_type": "execute_result"
    }
   ],
   "source": [
    "# khởi tạo list data theo các giá trị đề bài cho trước\n",
    "data = [30, 22, 47, 20, 46, 47, 37, 24, 40, 12, 43, 45, 44, 48, 24, 30, 15, 28, 21, 29, 17, 24, 41, 33, 23]\n",
    "data"
   ]
  },
  {
   "cell_type": "code",
   "execution_count": 3,
   "id": "e8b59f1c-2a16-40cd-b546-748e08f2c755",
   "metadata": {},
   "outputs": [
    {
     "data": {
      "text/plain": [
       "array([30, 22, 47, 20, 46, 47, 37, 24, 40, 12, 43, 45, 44, 48, 24, 30, 15,\n",
       "       28, 21, 29, 17, 24, 41, 33, 23])"
      ]
     },
     "execution_count": 3,
     "metadata": {},
     "output_type": "execute_result"
    }
   ],
   "source": [
    "# khởi tạo numpy array từ list data\n",
    "np_arr = np.array(data)\n",
    "np_arr"
   ]
  },
  {
   "cell_type": "code",
   "execution_count": 4,
   "id": "162a297a-0510-4100-aef6-52018565af22",
   "metadata": {},
   "outputs": [
    {
     "name": "stdout",
     "output_type": "stream",
     "text": [
      "Mảng arr :  [30 22 47 20 46 47 37 24 40 12 43 45 44 48 24 30 15 28 21 29 17 24 41 33\n",
      " 23]\n",
      "5 phần tử đầu tiên của mảng:  [30 22 47 20 46]\n",
      "5 phần tử cuối cùng của mảng:  [17 24 41 33 23]\n"
     ]
    }
   ],
   "source": [
    "# in kết quả gồm:\n",
    "# toàn bộ mảng, 5 giá trị đầu tiên, 5 giá trị cuối cùng\n",
    "print(\"Mảng arr : \", np_arr) # toàn bộ mảng\n",
    "print(\"5 phần tử đầu tiên của mảng: \", np_arr[:5:]) # 5 phần tử đầu tiên\n",
    "print(\"5 phần tử cuối cùng của mảng: \", np_arr[-5::]) # 5 phần tử cuối cùng"
   ]
  },
  {
   "cell_type": "markdown",
   "id": "8fcf50f2-3b33-4fe6-aa8e-daf197194cca",
   "metadata": {},
   "source": [
    "##### Từ mảng 1 chiều arr, chuyển đổi thành mảng 2 chiều arr_2d có kích thước 5x5"
   ]
  },
  {
   "cell_type": "code",
   "execution_count": 5,
   "id": "0835abd5-ab38-4589-8755-e7132fb47488",
   "metadata": {},
   "outputs": [
    {
     "data": {
      "text/plain": [
       "array([[30, 22, 47, 20, 46],\n",
       "       [47, 37, 24, 40, 12],\n",
       "       [43, 45, 44, 48, 24],\n",
       "       [30, 15, 28, 21, 29],\n",
       "       [17, 24, 41, 33, 23]])"
      ]
     },
     "execution_count": 5,
     "metadata": {},
     "output_type": "execute_result"
    }
   ],
   "source": [
    "# chuyển từ 1D Array sang 2D Array có kích thước 5x5\n",
    "np_arr_2d = np_arr.reshape(5,5)\n",
    "np_arr_2d"
   ]
  },
  {
   "cell_type": "code",
   "execution_count": 6,
   "id": "686f9d16-e9b3-42c1-bfcd-f956016a86fb",
   "metadata": {},
   "outputs": [
    {
     "name": "stdout",
     "output_type": "stream",
     "text": [
      "Mảng 2 chiều:\n",
      "[[30 22 47 20 46]\n",
      " [47 37 24 40 12]\n",
      " [43 45 44 48 24]\n",
      " [30 15 28 21 29]\n",
      " [17 24 41 33 23]]\n"
     ]
    }
   ],
   "source": [
    "# In ra kết quả 2D array vừa tạo\n",
    "print(\"Mảng 2 chiều:\")\n",
    "print(np_arr_2d)"
   ]
  },
  {
   "cell_type": "markdown",
   "id": "4620b0fa-703a-4f32-b102-48c86878da50",
   "metadata": {},
   "source": [
    "##### Lọc và in ra các phần tử có giá trị là số chẵn và số lẻ trong arr_2d"
   ]
  },
  {
   "cell_type": "code",
   "execution_count": 7,
   "id": "c9094c03-9927-429b-a2ce-b34a7913efdc",
   "metadata": {},
   "outputs": [
    {
     "name": "stdout",
     "output_type": "stream",
     "text": [
      "Các phẩn tử có giá trị là số lẻ : \n",
      "[47 47 37 43 45 15 21 29 17 41 33 23]\n",
      "Các phẩn tử có giá trị là số chẳn : \n",
      "[30 22 20 46 24 40 12 44 48 24 30 28 24]\n"
     ]
    }
   ],
   "source": [
    "arr_odd_number = np_arr_2d[np_arr_2d % 2 != 0] # tạo mảng số lẻ\n",
    "arr_even_number = np_arr_2d[np_arr_2d % 2 == 0] # tạo mảng số chẳn\n",
    "\n",
    "print(\"Các phẩn tử có giá trị là số lẻ : \")\n",
    "print(arr_odd_number)\n",
    "print(\"Các phẩn tử có giá trị là số chẳn : \")\n",
    "print(arr_even_number)"
   ]
  },
  {
   "cell_type": "markdown",
   "id": "472d2873-6b9f-419b-9633-7775f01ed8c0",
   "metadata": {},
   "source": [
    "##### Đếm số phần tử chẵn và số phần tử lẻ có trong mảng arr_2d "
   ]
  },
  {
   "cell_type": "code",
   "execution_count": 8,
   "id": "6e8d1b51-acf0-4606-97a6-36f96da47389",
   "metadata": {},
   "outputs": [
    {
     "name": "stdout",
     "output_type": "stream",
     "text": [
      "Số lượng phần tử có giá trị chẵn:  13\n",
      "Số lượng phần tử có giá trị lẻ:  12\n"
     ]
    }
   ],
   "source": [
    "print(\"Số lượng phần tử có giá trị chẵn: \", arr_even_number.size)\n",
    "print(\"Số lượng phần tử có giá trị lẻ: \", arr_odd_number.size)"
   ]
  },
  {
   "cell_type": "markdown",
   "id": "b15ceaf8-e758-4c54-bc6a-5991770d5d8a",
   "metadata": {},
   "source": [
    "##### Thay thế các giá trị chẵn trong mảng arr_2d bằng 0 và thay thế các giá trị lẻ trong mảng arr_2d bằng \n",
    "\n",
    "#####  và in ra kết quả "
   ]
  },
  {
   "cell_type": "code",
   "execution_count": 9,
   "id": "41544713-2d13-43c7-a351-1250d60ef6ad",
   "metadata": {},
   "outputs": [
    {
     "name": "stdout",
     "output_type": "stream",
     "text": [
      "Mảng 2 chiều sau khi thay thế: \n"
     ]
    },
    {
     "data": {
      "text/plain": [
       "array([[0, 0, 1, 0, 0],\n",
       "       [1, 1, 0, 0, 0],\n",
       "       [1, 1, 0, 0, 0],\n",
       "       [0, 1, 0, 1, 1],\n",
       "       [1, 0, 1, 1, 1]])"
      ]
     },
     "execution_count": 9,
     "metadata": {},
     "output_type": "execute_result"
    }
   ],
   "source": [
    "np_arr_2d[np_arr_2d % 2 == 0] = 0 # chuyển giá trị của mảng là số chẳn thành 0\n",
    "np_arr_2d[np_arr_2d % 2 != 0] = 1 # chuyển giá trị của mảng là số lẻ thành 1\n",
    "print(\"Mảng 2 chiều sau khi thay thế: \")\n",
    "np_arr_2d"
   ]
  },
  {
   "cell_type": "code",
   "execution_count": null,
   "id": "06bb98fd-4a2e-47b9-b9db-0d180cb41c5a",
   "metadata": {},
   "outputs": [],
   "source": []
  }
 ],
 "metadata": {
  "kernelspec": {
   "display_name": "Python 3 (ipykernel)",
   "language": "python",
   "name": "python3"
  },
  "language_info": {
   "codemirror_mode": {
    "name": "ipython",
    "version": 3
   },
   "file_extension": ".py",
   "mimetype": "text/x-python",
   "name": "python",
   "nbconvert_exporter": "python",
   "pygments_lexer": "ipython3",
   "version": "3.10.11"
  }
 },
 "nbformat": 4,
 "nbformat_minor": 5
}
